{
 "cells": [
  {
   "cell_type": "code",
   "execution_count": 1,
   "metadata": {},
   "outputs": [],
   "source": [
    "from linefilter import LineFilter\n",
    "import matplotlib.pyplot as plt\n",
    "from birdseye import Birdseye\n",
    "from curves import Curves\n",
    "from utils import roi\n",
    "import numpy as np\n",
    "import pickle\n",
    "import cv2"
   ]
  },
  {
   "cell_type": "code",
   "execution_count": 2,
   "metadata": {},
   "outputs": [],
   "source": [
    "calibration_data = pickle.load(open(\"calibration_data.pkl\", \"rb\"))\n",
    "\n",
    "camera_matrix = calibration_data['camera_matrix']\n",
    "dest_coef = calibration_data[\"distortion_coefficient\"]\n",
    "\n",
    "source_points = [(580, 460), (205, 720), (1110, 720), (703, 460)]\n",
    "dest_points = [(320, 0), (320, 720), (960, 720), (960, 0)]\n",
    "\n",
    "p = { 'sat_thresh': 120, \n",
    "     'light_thresh': 40, \n",
    "     'light_thresh_agr': 205,\n",
    "     'grad_thresh': (0.7, 1.4), \n",
    "     'mag_thresh': 40, \n",
    "     'x_thresh': 20 }\n",
    "\n",
    "birdEye = Birdseye(source_points, dest_points, camera_matrix, dest_coef)\n",
    "lineFilter = LineFilter(p)\n",
    "curves = Curves(number_of_windows = 9, margin = 100, minimum_pixels = 50, ym_per_pix = 30 / 720 , xm_per_pix = 3.7 / 700)"
   ]
  },
  {
   "cell_type": "code",
   "execution_count": 3,
   "metadata": {},
   "outputs": [],
   "source": [
    "def curves_test(path):\n",
    "    img = cv2.imread(path)\n",
    "    binary = lineFilter.apply(img)\n",
    "    wb = np.logical_and(birdEye.sky_view(binary), roi(binary)).astype(np.uint8)\n",
    "    result = curves.fit(wb)\n",
    "    print(\"[real world] left best-fit curve parameters:\", result['real_left_best_fit_curve'])\n",
    "    print(\"[real world] right best-fit curve parameters:\", result['real_right_best_fit_curve'])\n",
    "    print(\"[pixel] left best-fit curve parameters:\", result['pixel_left_best_fit_curve'])\n",
    "    print(\"[pixel] left best-fit curve parameters:\", result['pixel_right_best_fit_curve'])\n",
    "    print(\"[left] current radius of curvature:\", result['left_radius'], \"m\")\n",
    "    print(\"[right] current radius of curvature:\", result['right_radius'], \"m\")\n",
    "    print(\"vehicle position:\", result['vehicle_position_words'])\n",
    "    ground_img_with_projection = birdEye.project(img, binary, result['pixel_left_best_fit_curve'], result['pixel_right_best_fit_curve'])\n",
    "    plt.imshow(result['image'])\n",
    "    plt.imshow(ground_img_with_projection)"
   ]
  },
  {
   "cell_type": "code",
   "execution_count": 4,
   "metadata": {},
   "outputs": [
    {
     "name": "stdout",
     "output_type": "stream",
     "text": [
      "[real world] left best-fit curve parameters: [ 4.39918667e-04 -2.51161790e-02  2.18532172e+00]\n",
      "[real world] right best-fit curve parameters: [ 2.44421587e-04 -2.51085032e-02  5.73192779e+00]\n",
      "[pixel] left best-fit curve parameters: [ 1.44492805e-04 -1.97987897e-01  4.13439244e+02]\n",
      "[pixel] left best-fit curve parameters: [ 8.02811144e-05 -1.97927390e-01  1.08441877e+03]\n",
      "[left] current radius of curvature: 1136.576518419726 m\n",
      "[right] current radius of curvature: 2045.9804867443568 m\n",
      "vehicle position: 0.13 m right of center\n"
     ]
    },
    {
     "ename": "AttributeError",
     "evalue": "'Birdseye' object has no attribute 'inv_warp_matrix'",
     "output_type": "error",
     "traceback": [
      "\u001b[0;31m---------------------------------------------------------------------------\u001b[0m",
      "\u001b[0;31mAttributeError\u001b[0m                            Traceback (most recent call last)",
      "\u001b[0;32m<ipython-input-4-11f17ba820da>\u001b[0m in \u001b[0;36m<module>\u001b[0;34m()\u001b[0m\n\u001b[0;32m----> 1\u001b[0;31m \u001b[0mcurves_test\u001b[0m\u001b[0;34m(\u001b[0m\u001b[0;34m\"test_images/test1.jpg\"\u001b[0m\u001b[0;34m)\u001b[0m\u001b[0;34m\u001b[0m\u001b[0m\n\u001b[0m",
      "\u001b[0;32m<ipython-input-3-c7e1944ec689>\u001b[0m in \u001b[0;36mcurves_test\u001b[0;34m(path)\u001b[0m\n\u001b[1;32m     11\u001b[0m     \u001b[0mprint\u001b[0m\u001b[0;34m(\u001b[0m\u001b[0;34m\"[right] current radius of curvature:\"\u001b[0m\u001b[0;34m,\u001b[0m \u001b[0mresult\u001b[0m\u001b[0;34m[\u001b[0m\u001b[0;34m'right_radius'\u001b[0m\u001b[0;34m]\u001b[0m\u001b[0;34m,\u001b[0m \u001b[0;34m\"m\"\u001b[0m\u001b[0;34m)\u001b[0m\u001b[0;34m\u001b[0m\u001b[0m\n\u001b[1;32m     12\u001b[0m     \u001b[0mprint\u001b[0m\u001b[0;34m(\u001b[0m\u001b[0;34m\"vehicle position:\"\u001b[0m\u001b[0;34m,\u001b[0m \u001b[0mresult\u001b[0m\u001b[0;34m[\u001b[0m\u001b[0;34m'vehicle_position_words'\u001b[0m\u001b[0;34m]\u001b[0m\u001b[0;34m)\u001b[0m\u001b[0;34m\u001b[0m\u001b[0m\n\u001b[0;32m---> 13\u001b[0;31m     \u001b[0mground_img_with_projection\u001b[0m \u001b[0;34m=\u001b[0m \u001b[0mbirdEye\u001b[0m\u001b[0;34m.\u001b[0m\u001b[0mproject\u001b[0m\u001b[0;34m(\u001b[0m\u001b[0mimg\u001b[0m\u001b[0;34m,\u001b[0m \u001b[0mbinary\u001b[0m\u001b[0;34m,\u001b[0m \u001b[0mresult\u001b[0m\u001b[0;34m[\u001b[0m\u001b[0;34m'pixel_left_best_fit_curve'\u001b[0m\u001b[0;34m]\u001b[0m\u001b[0;34m,\u001b[0m \u001b[0mresult\u001b[0m\u001b[0;34m[\u001b[0m\u001b[0;34m'pixel_right_best_fit_curve'\u001b[0m\u001b[0;34m]\u001b[0m\u001b[0;34m)\u001b[0m\u001b[0;34m\u001b[0m\u001b[0m\n\u001b[0m\u001b[1;32m     14\u001b[0m     \u001b[0mplt\u001b[0m\u001b[0;34m.\u001b[0m\u001b[0mimshow\u001b[0m\u001b[0;34m(\u001b[0m\u001b[0mresult\u001b[0m\u001b[0;34m[\u001b[0m\u001b[0;34m'image'\u001b[0m\u001b[0;34m]\u001b[0m\u001b[0;34m)\u001b[0m\u001b[0;34m\u001b[0m\u001b[0m\n\u001b[1;32m     15\u001b[0m     \u001b[0mplt\u001b[0m\u001b[0;34m.\u001b[0m\u001b[0mimshow\u001b[0m\u001b[0;34m(\u001b[0m\u001b[0mground_img_with_projection\u001b[0m\u001b[0;34m)\u001b[0m\u001b[0;34m\u001b[0m\u001b[0m\n",
      "\u001b[0;32m~/Desktop/MyOwnLineDetection/birdseye.py\u001b[0m in \u001b[0;36mproject\u001b[0;34m(self, ground_image, sky_lane, left_fit, right_fit, color)\u001b[0m\n\u001b[1;32m     47\u001b[0m \u001b[0;34m\u001b[0m\u001b[0m\n\u001b[1;32m     48\u001b[0m       \u001b[0mshape\u001b[0m \u001b[0;34m=\u001b[0m \u001b[0;34m(\u001b[0m\u001b[0msky_lane\u001b[0m\u001b[0;34m.\u001b[0m\u001b[0mshape\u001b[0m\u001b[0;34m[\u001b[0m\u001b[0;36m1\u001b[0m\u001b[0;34m]\u001b[0m\u001b[0;34m,\u001b[0m \u001b[0msky_lane\u001b[0m\u001b[0;34m.\u001b[0m\u001b[0mshape\u001b[0m\u001b[0;34m[\u001b[0m\u001b[0;36m0\u001b[0m\u001b[0;34m]\u001b[0m\u001b[0;34m)\u001b[0m\u001b[0;34m\u001b[0m\u001b[0m\n\u001b[0;32m---> 49\u001b[0;31m       \u001b[0mground_lane\u001b[0m \u001b[0;34m=\u001b[0m \u001b[0mcv2\u001b[0m\u001b[0;34m.\u001b[0m\u001b[0mwarpPerspective\u001b[0m\u001b[0;34m(\u001b[0m\u001b[0msky_lane\u001b[0m\u001b[0;34m,\u001b[0m \u001b[0mself\u001b[0m\u001b[0;34m.\u001b[0m\u001b[0minv_warp_matrix\u001b[0m\u001b[0;34m,\u001b[0m \u001b[0mshape\u001b[0m\u001b[0;34m)\u001b[0m\u001b[0;34m\u001b[0m\u001b[0m\n\u001b[0m\u001b[1;32m     50\u001b[0m \u001b[0;34m\u001b[0m\u001b[0m\n\u001b[1;32m     51\u001b[0m       \u001b[0mresult\u001b[0m \u001b[0;34m=\u001b[0m \u001b[0mcv2\u001b[0m\u001b[0;34m.\u001b[0m\u001b[0maddWeighted\u001b[0m\u001b[0;34m(\u001b[0m\u001b[0mground_image\u001b[0m\u001b[0;34m,\u001b[0m \u001b[0;36m1\u001b[0m\u001b[0;34m,\u001b[0m \u001b[0mground_lane\u001b[0m\u001b[0;34m,\u001b[0m \u001b[0;36m0.3\u001b[0m\u001b[0;34m,\u001b[0m \u001b[0;36m0\u001b[0m\u001b[0;34m)\u001b[0m\u001b[0;34m\u001b[0m\u001b[0m\n",
      "\u001b[0;31mAttributeError\u001b[0m: 'Birdseye' object has no attribute 'inv_warp_matrix'"
     ]
    }
   ],
   "source": [
    "curves_test(\"test_images/test1.jpg\")"
   ]
  },
  {
   "cell_type": "code",
   "execution_count": null,
   "metadata": {},
   "outputs": [],
   "source": [
    "ground_img_with_projection = birdsEye.project(ground_img, binary, left_fit_curve, right_fit_curve)"
   ]
  }
 ],
 "metadata": {
  "kernelspec": {
   "display_name": "Python 3",
   "language": "python",
   "name": "python3"
  },
  "language_info": {
   "codemirror_mode": {
    "name": "ipython",
    "version": 3
   },
   "file_extension": ".py",
   "mimetype": "text/x-python",
   "name": "python",
   "nbconvert_exporter": "python",
   "pygments_lexer": "ipython3",
   "version": "3.6.6"
  }
 },
 "nbformat": 4,
 "nbformat_minor": 2
}
